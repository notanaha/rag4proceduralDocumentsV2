{
 "cells": [
  {
   "cell_type": "code",
   "execution_count": null,
   "id": "b77880dc",
   "metadata": {},
   "outputs": [],
   "source": [
    "import os\n",
    "import pandas as pd\n",
    "from pathlib import Path\n",
    "from pypdf import PdfReader, PdfWriter"
   ]
  },
  {
   "cell_type": "markdown",
   "id": "8c9b4163",
   "metadata": {},
   "source": [
    "## This file is not used in the subsequent scritps, therefore no need to run"
   ]
  },
  {
   "cell_type": "markdown",
   "id": "ed15aeab",
   "metadata": {},
   "source": [
    "<h5>Split pdf pages to a series of single pages pdf</h5>\n",
    "\n",
    "\n",
    "├── pdf_dir  \n",
    "│&emsp; &emsp; ├── sinle_pdf_dir  \n",
    "│&emsp; &emsp; └── pdf files  \n",
    "this script"
   ]
  },
  {
   "cell_type": "code",
   "execution_count": 4,
   "id": "c92cb550",
   "metadata": {},
   "outputs": [],
   "source": [
    "pdf_dir = Path('./pdf')\n",
    "single_pdf_dir = Path('./single_pdf')\n",
    "single_pdf_dir_path = Path(os.path.join(pdf_dir, single_pdf_dir))\n",
    "os.makedirs(single_pdf_dir_path, exist_ok=True)\n",
    "\n",
    "# Read the input PDF file\n",
    "for input_pdf_path in next(os.walk(pdf_dir))[2]:\n",
    "    fpath = Path(os.path.join(pdf_dir, input_pdf_path))\n",
    "    if fpath.suffix != \".pdf\":\n",
    "        continue\n",
    "\n",
    "    with open(fpath, \"rb\") as file:\n",
    "        pdf = PdfReader(file)\n",
    "\n",
    "        for i, page_num in enumerate(pdf.pages):\n",
    "            output_pdf = PdfWriter()\n",
    "            output_pdf.add_page(page_num)\n",
    "\n",
    "            # Save each single-page PDF file with a unique name\n",
    "            output_file = fpath.stem + \"_{:02d}\".format(i + 1) + \".pdf\"\n",
    "            output_path = single_pdf_dir_path / output_file\n",
    "            with open(output_path, \"wb\") as fw:\n",
    "                output_pdf.write(fw)\n"
   ]
  }
 ],
 "metadata": {
  "kernelspec": {
   "display_name": "Python 3",
   "language": "python",
   "name": "python3"
  },
  "language_info": {
   "codemirror_mode": {
    "name": "ipython",
    "version": 3
   },
   "file_extension": ".py",
   "mimetype": "text/x-python",
   "name": "python",
   "nbconvert_exporter": "python",
   "pygments_lexer": "ipython3",
   "version": "3.10.13"
  }
 },
 "nbformat": 4,
 "nbformat_minor": 5
}
