{
 "cells": [
  {
   "cell_type": "code",
   "execution_count": 1,
   "id": "b77880dc",
   "metadata": {},
   "outputs": [],
   "source": [
    "import os, json\n",
    "import pandas as pd\n",
    "from pathlib import Path\n",
    "from dotenv import load_dotenv\n",
    "from azure.core.credentials import AzureKeyCredential\n",
    "from azure.ai.formrecognizer import DocumentAnalysisClient\n",
    "import numpy as np\n",
    "\n",
    "load_dotenv(\".env\")\n",
    "separator_word = os.environ[\"SEPARATOR_WORD\"]"
   ]
  },
  {
   "cell_type": "code",
   "execution_count": 2,
   "id": "04173460",
   "metadata": {},
   "outputs": [],
   "source": [
    "endpoint = os.environ[\"FR_ENDPOINT\"]\n",
    "key = os.environ[\"FR_KEY\"]\n",
    "\n",
    "# Instantiate DocumentAnalysisClient\n",
    "document_analysis_client = DocumentAnalysisClient(\n",
    "    endpoint=endpoint, credential=AzureKeyCredential(key)\n",
    ")"
   ]
  },
  {
   "attachments": {},
   "cell_type": "markdown",
   "id": "5067951c",
   "metadata": {},
   "source": [
    "<h5>Document Intelligence - Text Extraction by Layout Model\n",
    "</h5>"
   ]
  },
  {
   "cell_type": "markdown",
   "id": "0e770dbc",
   "metadata": {},
   "source": [
    "\n",
    "├── pdf_dir  \n",
    "│&emsp; &emsp; ├── text_dir  \n",
    "│&emsp; &emsp; └── pdf files  \n",
    "this script"
   ]
  },
  {
   "cell_type": "code",
   "execution_count": 3,
   "id": "ddc03d9f",
   "metadata": {},
   "outputs": [],
   "source": [
    "pdf_dir = Path('./pdf')\n",
    "text_dir = Path('./text')\n",
    "text_path = Path(os.path.join(pdf_dir, text_dir))\n",
    "os.makedirs(text_path, exist_ok=True)\n",
    "\n",
    "def format_out_doc(resultPages: list, title: str):\n",
    "    out_doc = {}\n",
    "    for page in resultPages:\n",
    "        page_content = \"\"\n",
    "        for line in page.lines:\n",
    "            page_content += line.content + \"\\n\"\n",
    "        page_content = page_content.replace('\\n',' \\n').replace(\":unselected:\", \" \")\n",
    "        #out_doc[title + \"_\" +\"{:02}\".format(page.page_number)] = page_content\n",
    "        out_doc[title + separator_word +\"{:02}\".format(page.page_number)] = page_content\n",
    "    return out_doc\n",
    "\n",
    "\n",
    "\n",
    "for pdf in next(os.walk(pdf_dir))[2]:\n",
    "\n",
    "    with open(os.path.join(pdf_dir, pdf), \"rb\") as f:        \n",
    "        data_bytes = f.read()\n",
    "        #print(f\"Analyzing {pdf}\")\n",
    "        poller = document_analysis_client.begin_analyze_document(\"prebuilt-layout\", data_bytes)\n",
    "        result = poller.result()\n",
    "        #text = result.content.replace('\\n',' \\n').replace(':unselected:',' ')\n",
    "        title = Path(pdf).stem\n",
    "        text = format_out_doc(result.pages, title)\n",
    "\n",
    "        out_fname = title + \".txt\"\n",
    "        with open(os.path.join(text_path, out_fname), 'w', encoding='utf-8') as outfile:\n",
    "            #outfile.write(text)\n",
    "            outfile.write(json.dumps(text, ensure_ascii=False))"
   ]
  },
  {
   "cell_type": "markdown",
   "id": "6b65594f",
   "metadata": {},
   "source": [
    "## TEST: do not run hereafter"
   ]
  },
  {
   "cell_type": "code",
   "execution_count": null,
   "id": "6bee89d4",
   "metadata": {},
   "outputs": [],
   "source": [
    "pdf_dir = Path('./pdf')\n",
    "pdf = \"fukuoka-garbage.pdf\"\n",
    "\n",
    "def format_out_doc(resultPages: list, title: str):\n",
    "    out_doc = {}\n",
    "    for page in resultPages:\n",
    "        page_content = \"\"\n",
    "        for line in page.lines:\n",
    "            page_content += line.content + \"\\n\"\n",
    "        page_content = page_content.replace('\\n',' \\n').replace(\":unselected:\", \" \")\n",
    "        out_doc[title + \"_\" +\"{:02}\".format(page.page_number)] = page_content\n",
    "    return out_doc\n",
    "\n",
    "with open(os.path.join(pdf_dir, pdf), \"rb\") as f:        \n",
    "    data_bytes = f.read()\n",
    "    #print(f\"Analyzing {pdf}\")\n",
    "    poller = document_analysis_client.begin_analyze_document(\"prebuilt-layout\", data_bytes)\n",
    "    result = poller.result()\n",
    "    #text = result.content.replace('\\n',' \\n').replace(':unselected:',' ')\n",
    "    title = Path(pdf).stem\n",
    "    text = format_out_doc(result.pages, title)\n",
    "    \n",
    "text = json.dumps(text, ensure_ascii=False)\n",
    "text"
   ]
  },
  {
   "cell_type": "code",
   "execution_count": null,
   "id": "c15664b0",
   "metadata": {},
   "outputs": [],
   "source": [
    "content_dict = json.loads(text)\n",
    "content_dict\n"
   ]
  },
  {
   "cell_type": "code",
   "execution_count": null,
   "id": "a2f87e3f",
   "metadata": {},
   "outputs": [],
   "source": [
    "def remove_page_format(text: str):\n",
    "    content = json.loads(text)\n",
    "    out_doc = ''\n",
    "    for page in content:\n",
    "        out_doc += content[page]\n",
    "    return out_doc.replace('\\n',' ')\n",
    "\n",
    "print(remove_page_format(text))"
   ]
  }
 ],
 "metadata": {
  "kernelspec": {
   "display_name": "Python 3",
   "language": "python",
   "name": "python3"
  },
  "language_info": {
   "codemirror_mode": {
    "name": "ipython",
    "version": 3
   },
   "file_extension": ".py",
   "mimetype": "text/x-python",
   "name": "python",
   "nbconvert_exporter": "python",
   "pygments_lexer": "ipython3",
   "version": "3.10.13"
  }
 },
 "nbformat": 4,
 "nbformat_minor": 5
}
