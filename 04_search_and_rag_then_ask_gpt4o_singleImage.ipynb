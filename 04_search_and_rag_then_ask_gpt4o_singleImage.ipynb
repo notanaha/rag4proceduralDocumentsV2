{
 "cells": [
  {
   "cell_type": "code",
   "execution_count": null,
   "metadata": {},
   "outputs": [],
   "source": [
    "import os, json\n",
    "from IPython.display import Image\n",
    "import openai\n",
    "from azure.storage.blob import BlobServiceClient\n",
    "\n",
    "import utils\n",
    "from dotenv import load_dotenv\n",
    "load_dotenv(\".env\")"
   ]
  },
  {
   "cell_type": "markdown",
   "metadata": {},
   "source": [
    "### SET VARIABLES"
   ]
  },
  {
   "cell_type": "code",
   "execution_count": 2,
   "metadata": {},
   "outputs": [],
   "source": [
    "use_azure_active_directory = False  # Set this flag to True if you are using Azure Active Directory\n",
    "if not use_azure_active_directory:\n",
    "    aoai_endpoint = os.environ[\"AZURE_OPENAI_ENDPOINT\"]\n",
    "    aoai_api_key = os.environ[\"AZURE_OPENAI_API_KEY\"]\n",
    "    api_version = os.environ[\"AZURE_OPENAI_API_VERSION\"]\n",
    "\n",
    "    client = openai.AzureOpenAI( \n",
    "        azure_endpoint=aoai_endpoint,\n",
    "        api_key=aoai_api_key,\n",
    "        api_version= api_version\n",
    "    )\n",
    "    \n",
    "embedding_model: str = \"text-embedding-ada-002\" \n",
    "chat_model: str = \"gpt-4o\"\n",
    "\n",
    "connection_string = os.environ[\"STORAGE_CONN_STR\"]\n",
    "# Temporarily set as identity access fails\n",
    "storage_sas_token = os.environ[\"STORAGE_SAS_TOKEN\"] \n",
    "separator_word = os.environ[\"SEPARATOR_WORD\"]"
   ]
  },
  {
   "cell_type": "markdown",
   "metadata": {},
   "source": [
    "### PERFORM A HYBRID SEARCH"
   ]
  },
  {
   "cell_type": "markdown",
   "metadata": {},
   "source": [
    "## Error Handling for Partial Content"
   ]
  },
  {
   "cell_type": "code",
   "execution_count": null,
   "metadata": {},
   "outputs": [],
   "source": [
    "import json\n",
    "query = \"ペットボトルの投棄方法は 1 から 9 番のどれですか？\" \n",
    "answer_context = utils.search_index_semanticAndFallBack(query, client, embedding_model)\n",
    "answer_context"
   ]
  },
  {
   "cell_type": "markdown",
   "metadata": {},
   "source": [
    "### RAG Query to GPT-4o"
   ]
  },
  {
   "cell_type": "code",
   "execution_count": 4,
   "metadata": {},
   "outputs": [],
   "source": [
    "with open(\"./system_message_0c.txt\", \"r\", encoding = 'utf-8') as f:\n",
    "    system_message = f.read()"
   ]
  },
  {
   "cell_type": "code",
   "execution_count": 5,
   "metadata": {},
   "outputs": [],
   "source": [
    "messages = []\n",
    "messages.append({\"role\": \"system\",\"content\": system_message})\n",
    "\n",
    "content = {}\n",
    "content[\"question\"] = query\n",
    "content[\"context\"] = answer_context\n",
    "messages.append({\"role\": \"user\", \"content\": str(content)})\n",
    "\n",
    "#print(json.dumps(messages, indent=4, ensure_ascii=False))"
   ]
  },
  {
   "cell_type": "code",
   "execution_count": null,
   "metadata": {},
   "outputs": [],
   "source": [
    "response = utils.gpt4_turbo_query(messages, client, chat_model)\n",
    "answer = response.choices[0].message.content\n",
    "\n",
    "answer = json.loads(answer)\n",
    "print(answer)"
   ]
  },
  {
   "cell_type": "code",
   "execution_count": null,
   "metadata": {},
   "outputs": [],
   "source": [
    "for num, item in enumerate(answer[\"answers\"]):\n",
    "    if item[\"answer\"].startswith(\"Sorry\"):\n",
    "        break\n",
    "    print(\"answer[\"+ str(num) + \"]: \", item[\"answer\"])\n",
    "    print(\"  page[\"+ str(num) + \"]: \", item[\"page\"])"
   ]
  },
  {
   "cell_type": "markdown",
   "metadata": {},
   "source": [
    "### Get URL of the 'title' image"
   ]
  },
  {
   "cell_type": "code",
   "execution_count": null,
   "metadata": {},
   "outputs": [],
   "source": [
    "container_name = \"manual-test\"\n",
    "blob_service_client = BlobServiceClient.from_connection_string(connection_string)\n",
    "image_urls = []\n",
    "\n",
    "for item in answer[\"answers\"]:\n",
    "    if item[\"answer\"].startswith(\"Sorry\"):\n",
    "        break\n",
    "    blob_name = item[\"page\"]\n",
    "    image_titles_and_urls = utils.list_blobs_titles_and_urls(blob_service_client, container_name, blob_name)\n",
    "    if image_titles_and_urls:\n",
    "        image_urls.append(image_titles_and_urls)\n",
    "\n",
    "image_urls"
   ]
  },
  {
   "cell_type": "markdown",
   "metadata": {},
   "source": [
    "## Sending a new message to GPT-4o"
   ]
  },
  {
   "cell_type": "code",
   "execution_count": 9,
   "metadata": {},
   "outputs": [],
   "source": [
    "with open(\"./system_message_01.txt\", \"r\", encoding = 'utf-8') as f:\n",
    "    system_message = f.read()"
   ]
  },
  {
   "cell_type": "code",
   "execution_count": null,
   "metadata": {},
   "outputs": [],
   "source": [
    "answer_string = ', '.join(json.dumps(item, ensure_ascii=False) for item in answer[\"answers\"] \\\n",
    "                          if not item[\"answer\"].startswith(\"Sorry\"))\n",
    "answer_string"
   ]
  },
  {
   "cell_type": "code",
   "execution_count": 11,
   "metadata": {},
   "outputs": [],
   "source": [
    "messages = []\n",
    "messages.append({\"role\": \"system\",\"content\": system_message})\n",
    "\n",
    "content = []\n",
    "content.append({\"type\": \"text\", \"text\": \"query: \" + query})\n",
    "content.append({\"type\": \"text\", \"text\":\"answer from gpt-4: \" + answer_string})\n",
    "\n",
    "for url in image_urls:    # pick up the relevant images\n",
    "    storagepath = url['title']\n",
    "    storagepath_stem = os.path.splitext(storagepath)[0]\n",
    "    if not (storagepath_stem[-3] == separator_word and storagepath_stem[-2:].isdigit()):\n",
    "        storagepath_stem += separator_word + '01' # storagepath doesn't have a number suffix\n",
    "    for item in answer[\"answers\"]:\n",
    "        if storagepath_stem == item['page']:\n",
    "            content.append({\"type\": \"text\", \"text\": storagepath_stem})\n",
    "            content.append({\"type\": \"image_url\", \"image_url\": {\"url\": url['url']+storage_sas_token}})\n",
    "            break\n",
    "\n",
    "messages.append({\"role\": \"user\",\"content\":content})"
   ]
  },
  {
   "cell_type": "code",
   "execution_count": null,
   "metadata": {},
   "outputs": [],
   "source": [
    "messages"
   ]
  },
  {
   "cell_type": "markdown",
   "metadata": {},
   "source": [
    "### Ask gpt-4o"
   ]
  },
  {
   "cell_type": "code",
   "execution_count": null,
   "metadata": {},
   "outputs": [],
   "source": [
    "response = utils.gpt4_turbo_query(messages, client, chat_model)\n",
    "answer = response.choices[0].message.content\n",
    "\n",
    "answer = json.loads(answer)\n",
    "print(answer)"
   ]
  },
  {
   "cell_type": "code",
   "execution_count": null,
   "metadata": {},
   "outputs": [],
   "source": [
    "print(answer[\"answer\"])\n",
    "print(answer[\"citation\"])"
   ]
  },
  {
   "cell_type": "markdown",
   "metadata": {},
   "source": [
    "### Download and show the image"
   ]
  },
  {
   "cell_type": "code",
   "execution_count": null,
   "metadata": {},
   "outputs": [],
   "source": [
    "for url in image_urls:    # pick up the relevant images\n",
    "    storagepath = url['title']\n",
    "\n",
    "    utils.list_blobs_download(blob_service_client, container_name, storagepath)\n",
    "    print(\"\\n\",storagepath)\n",
    "    display(Image(filename=storagepath))"
   ]
  },
  {
   "cell_type": "markdown",
   "metadata": {},
   "source": [
    "## Maintain the massage"
   ]
  },
  {
   "cell_type": "code",
   "execution_count": null,
   "metadata": {},
   "outputs": [],
   "source": [
    "utils.append_conversation_history(messages, response, role=\"assistant\")\n",
    "print(messages)"
   ]
  },
  {
   "cell_type": "markdown",
   "metadata": {},
   "source": [
    "### Send the consecutive query"
   ]
  },
  {
   "cell_type": "code",
   "execution_count": null,
   "metadata": {},
   "outputs": [],
   "source": [
    "messages.append({\"role\": \"user\",\"content\":[\n",
    "    {\"type\": \"text\", \"text\": \"ponta ポイントサービスについて教えてください。\"}, \n",
    "]})\n",
    "response = utils.gpt4v_query(messages, aoai_endpoint, aoai_api_key, api_version)\n",
    "print(response.json()[\"choices\"][0][\"message\"][\"content\"])"
   ]
  },
  {
   "cell_type": "markdown",
   "metadata": {},
   "source": [
    "## Backup script"
   ]
  },
  {
   "cell_type": "markdown",
   "metadata": {},
   "source": [
    "Download all the images that include a page relevant to the questions"
   ]
  },
  {
   "cell_type": "code",
   "execution_count": null,
   "metadata": {},
   "outputs": [],
   "source": [
    "for url in image_urls:\n",
    "    utils.list_blobs_download(blob_service_client, container_name, url['title'])\n",
    "    display(Image(filename=url['title']))"
   ]
  },
  {
   "cell_type": "markdown",
   "metadata": {},
   "source": [
    "Download Images"
   ]
  },
  {
   "cell_type": "code",
   "execution_count": null,
   "metadata": {},
   "outputs": [],
   "source": [
    "utils.list_blobs_download(blob_service_client, container_name, blob_name, split_word)"
   ]
  },
  {
   "cell_type": "markdown",
   "metadata": {},
   "source": [
    "List the urls of the images"
   ]
  },
  {
   "cell_type": "code",
   "execution_count": null,
   "metadata": {},
   "outputs": [],
   "source": [
    "image_urls = utils.list_blobs_urls(blob_service_client, container_name, blob_name, split_word)\n",
    "print(image_urls)"
   ]
  },
  {
   "cell_type": "markdown",
   "metadata": {},
   "source": [
    "List the urls relevant to the query"
   ]
  },
  {
   "cell_type": "code",
   "execution_count": null,
   "metadata": {},
   "outputs": [],
   "source": [
    "image_urls_list = []\n",
    "for result in results:\n",
    "    image_urls_list += utils.list_blobs_urls(blob_service_client, container_name, result['title'], split_word)\n",
    "    #image_urls_list.append(image_urls)\n",
    "\n",
    "print(image_urls_list)"
   ]
  },
  {
   "cell_type": "markdown",
   "metadata": {},
   "source": [
    "### END OF SCRIPT"
   ]
  }
 ],
 "metadata": {
  "kernelspec": {
   "display_name": "Python 3",
   "language": "python",
   "name": "python3"
  },
  "language_info": {
   "codemirror_mode": {
    "name": "ipython",
    "version": 3
   },
   "file_extension": ".py",
   "mimetype": "text/x-python",
   "name": "python",
   "nbconvert_exporter": "python",
   "pygments_lexer": "ipython3",
   "version": "3.10.13"
  }
 },
 "nbformat": 4,
 "nbformat_minor": 2
}
