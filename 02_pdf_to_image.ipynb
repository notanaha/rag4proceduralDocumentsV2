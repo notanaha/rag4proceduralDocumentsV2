{
 "cells": [
  {
   "attachments": {},
   "cell_type": "markdown",
   "metadata": {},
   "source": [
    "### Convert PDF to Image"
   ]
  },
  {
   "cell_type": "code",
   "execution_count": 1,
   "metadata": {},
   "outputs": [],
   "source": [
    "import os\n",
    "from pathlib import Path\n",
    "from pdf2image import convert_from_path\n",
    "from dotenv import load_dotenv\n",
    "load_dotenv(\".env\")\n",
    "separator_word = os.environ[\"SEPARATOR_WORD\"]"
   ]
  },
  {
   "cell_type": "code",
   "execution_count": 2,
   "metadata": {},
   "outputs": [],
   "source": [
    "# Set poppler/bin to PATH\n",
    "poppler_dir = Path(\"../poppler/bin\")\n",
    "os.environ[\"PATH\"] += os.pathsep + str(poppler_dir)\n",
    "\n",
    "# PDF and image directories\n",
    "pdf_dir = Path(\"./pdf\")\n",
    "image_dir = Path(\"./image\")\n"
   ]
  },
  {
   "cell_type": "markdown",
   "metadata": {},
   "source": [
    "\n",
    "├── pdf_dir  \n",
    "│&emsp; &emsp; ├── image_dir  \n",
    "│&emsp; &emsp; └── pdf files  \n",
    "this script"
   ]
  },
  {
   "cell_type": "code",
   "execution_count": 3,
   "metadata": {},
   "outputs": [],
   "source": [
    "# Avoid \"decompression bomb DOS attack\" error \n",
    "from PIL import Image\n",
    "Image.MAX_IMAGE_PIXELS = 1000000000"
   ]
  },
  {
   "cell_type": "code",
   "execution_count": 4,
   "metadata": {},
   "outputs": [],
   "source": [
    "for fname in next(os.walk(pdf_dir))[2]:\n",
    "    fpath = Path(os.path.join(pdf_dir, fname))\n",
    "    if fpath.suffix != \".pdf\":\n",
    "        continue\n",
    "    # PDF -> Image (300dpi)\n",
    "    #print(\"processing: \", fpath)\n",
    "    pages = convert_from_path(str(fpath), 300)\n",
    "\n",
    "    im_path = Path(os.path.join(pdf_dir, image_dir))\n",
    "    os.makedirs(im_path, exist_ok=True)\n",
    "\n",
    "    # Save image file \n",
    "    for i, page in enumerate(pages):\n",
    "        #file_name = fpath.stem + \"_{:02d}\".format(i + 1) + \".jpeg\"\n",
    "        file_name = fpath.stem + separator_word + \"{:02d}\".format(i + 1) + \".jpeg\"\n",
    "        image_path = im_path / file_name\n",
    "        # JPEGで保存\n",
    "        page.save(str(image_path), \"JPEG\")"
   ]
  },
  {
   "cell_type": "markdown",
   "metadata": {},
   "source": [
    "### UPLOAD IMAGE FILES ONTO BLOB CONTAINER MANUALLY\n",
    "　　\n",
    "This is a manual process"
   ]
  }
 ],
 "metadata": {
  "kernelspec": {
   "display_name": "Python 3",
   "language": "python",
   "name": "python3"
  },
  "language_info": {
   "codemirror_mode": {
    "name": "ipython",
    "version": 3
   },
   "file_extension": ".py",
   "mimetype": "text/x-python",
   "name": "python",
   "nbconvert_exporter": "python",
   "pygments_lexer": "ipython3",
   "version": "3.10.13"
  },
  "orig_nbformat": 4
 },
 "nbformat": 4,
 "nbformat_minor": 2
}
